{
 "cells": [
  {
   "cell_type": "code",
   "execution_count": 78,
   "metadata": {
    "collapsed": false
   },
   "outputs": [],
   "source": [
    "import numpy as np\n",
    "from math import sqrt\n",
    "import matplotlib.pyplot as plt\n",
    "import warnings\n",
    "from matplotlib import style\n",
    "style.use('fivethirtyeight')\n",
    "from collections import Counter\n",
    "import pandas as pd\n",
    "import random"
   ]
  },
  {
   "cell_type": "code",
   "execution_count": 3,
   "metadata": {
    "collapsed": true
   },
   "outputs": [],
   "source": [
    "%matplotlib inline"
   ]
  },
  {
   "cell_type": "code",
   "execution_count": 4,
   "metadata": {
    "collapsed": true
   },
   "outputs": [],
   "source": [
    "dataset={'k':[[1,2],[2,3],[3,1]],\n",
    "         'r':[[6,5],[7,7],[8,6]]}"
   ]
  },
  {
   "cell_type": "code",
   "execution_count": 5,
   "metadata": {
    "collapsed": true
   },
   "outputs": [],
   "source": [
    "new_features=[5,7]"
   ]
  },
  {
   "cell_type": "code",
   "execution_count": 6,
   "metadata": {
    "collapsed": false
   },
   "outputs": [
    {
     "data": {
      "text/plain": [
       "<matplotlib.collections.PathCollection at 0x8338940>"
      ]
     },
     "execution_count": 6,
     "metadata": {},
     "output_type": "execute_result"
    },
    {
     "data": {
      "image/png": "[encoded data removed]",
      "text/plain": [
       "<matplotlib.figure.Figure at 0x7f3cb00>"
      ]
     },
     "metadata": {},
     "output_type": "display_data"
    }
   ],
   "source": [
    "for i in dataset:\n",
    "    for ii in dataset[i]:\n",
    "        plt.scatter(ii[0],ii[1],s=100,color=i)\n",
    "plt.scatter(new_features[0],new_features[1],s=100)"
   ]
  },
  {
   "cell_type": "code",
   "execution_count": 7,
   "metadata": {
    "collapsed": false
   },
   "outputs": [
    {
     "name": "stdout",
     "output_type": "stream",
     "text": [
      "this is i :k\n",
      "this is ii :[1, 2]\n",
      "1 2\n",
      "this is ii :[2, 3]\n",
      "2 3\n",
      "this is ii :[3, 1]\n",
      "3 1\n",
      "this is i :r\n",
      "this is ii :[6, 5]\n",
      "6 5\n",
      "this is ii :[7, 7]\n",
      "7 7\n",
      "this is ii :[8, 6]\n",
      "8 6\n"
     ]
    }
   ],
   "source": [
    "for i in dataset:\n",
    "    print('this is i :'+i)\n",
    "    for ii in dataset[i]:\n",
    "        print('this is ii :'+str(ii))\n",
    "        print(ii[0],ii[1])"
   ]
  },
  {
   "cell_type": "code",
   "execution_count": 71,
   "metadata": {
    "collapsed": true
   },
   "outputs": [],
   "source": [
    "def k_near_neigh(data,predict,k=3):\n",
    "    if len(data)>=k:\n",
    "        warning.warn('K is set to a value less than total voting groups!')\n",
    "    distance=[]\n",
    "    for groups in data:\n",
    "        for features in data[groups]:\n",
    "            euclidian_distance=np.linalg.norm(np.array(features)-np.array(predict))\n",
    "            distance.append([euclidian_distance,groups])\n",
    "    srt_dist=sorted(distance)[:k]\n",
    "    for i in srt_dist:\n",
    "        votes.append(i[1])\n",
    "    vote_result=Counter(votes).most_common(1)[0][0]\n",
    "    return vote_result"
   ]
  },
  {
   "cell_type": "markdown",
   "metadata": {},
   "source": [
    "distance=[]\n",
    "\n",
    "k=3\n",
    "\n",
    "votes=[]\n",
    "\n",
    "for groups in dataset:\n",
    "\n",
    "    for features in dataset[groups]:\n",
    "    \n",
    "        euc_dist=np.linalg.norm(np.array(features)-np.array(new_features))\n",
    "        \n",
    "        distance.append([euc_dist,groups])\n",
    "        \n",
    "srt_dist=sorted(distance)[:k]\n",
    "\n",
    "print(srt_dist)\n",
    "\n",
    "[[2.0, 'r'], [2.2360679774997898, 'r'], [3.1622776601683795, 'r']]\n",
    "\n",
    "for i in srt_dist:\n",
    "\n",
    "    votes.append(i[1])\n",
    "    \n",
    "    print(votes)\n",
    "    \n",
    "    ['r', 'r', 'r']\n",
    "    \n",
    "vote_result=Counter(votes).most_common()[0][0]"
   ]
  },
  {
   "cell_type": "code",
   "execution_count": 72,
   "metadata": {
    "collapsed": true
   },
   "outputs": [],
   "source": [
    "result=k_near_neigh(dataset,new_features,k=3)"
   ]
  },
  {
   "cell_type": "code",
   "execution_count": 73,
   "metadata": {
    "collapsed": false
   },
   "outputs": [
    {
     "data": {
      "text/plain": [
       "'r'"
      ]
     },
     "execution_count": 73,
     "metadata": {},
     "output_type": "execute_result"
    }
   ],
   "source": [
    "result"
   ]
  },
  {
   "cell_type": "code",
   "execution_count": 77,
   "metadata": {
    "collapsed": false
   },
   "outputs": [],
   "source": [
    "df=pd.read_csv('breast-cancer-wisconsin.data',\n",
    "               names=['id','clump_thickness','unif_cell_size',\n",
    "                      'unif_cell_shape','marg_adhesion',\n",
    "                      'single_epith_cell_size','bare_nuclei',\n",
    "                      'bland_chrom','norm_nucleoli','mitoses','class'])"
   ]
  },
  {
   "cell_type": "code",
   "execution_count": 79,
   "metadata": {
    "collapsed": true
   },
   "outputs": [],
   "source": [
    "df.replace('?',-99999,inplace=True)"
   ]
  },
  {
   "cell_type": "code",
   "execution_count": 80,
   "metadata": {
    "collapsed": true
   },
   "outputs": [],
   "source": [
    "df.drop(['id'],axis=1,inplace=True)"
   ]
  },
  {
   "cell_type": "code",
   "execution_count": 81,
   "metadata": {
    "collapsed": true
   },
   "outputs": [],
   "source": [
    "full_data=df.astype(float).values.tolist()"
   ]
  },
  {
   "cell_type": "code",
   "execution_count": 83,
   "metadata": {
    "collapsed": true
   },
   "outputs": [],
   "source": [
    "random.shuffle(full_data)"
   ]
  },
  {
   "cell_type": "code",
   "execution_count": 104,
   "metadata": {
    "collapsed": true
   },
   "outputs": [],
   "source": [
    "test_size=0.2"
   ]
  },
  {
   "cell_type": "code",
   "execution_count": 105,
   "metadata": {
    "collapsed": true
   },
   "outputs": [],
   "source": [
    "train_set={2:[],4:[]}"
   ]
  },
  {
   "cell_type": "code",
   "execution_count": 106,
   "metadata": {
    "collapsed": true
   },
   "outputs": [],
   "source": [
    "test_set={2:[],4:[]}"
   ]
  },
  {
   "cell_type": "code",
   "execution_count": 107,
   "metadata": {
    "collapsed": true
   },
   "outputs": [],
   "source": [
    "train_data=full_data[:-int(test_size*len(full_data))]"
   ]
  },
  {
   "cell_type": "code",
   "execution_count": 108,
   "metadata": {
    "collapsed": true
   },
   "outputs": [],
   "source": [
    "test_data=full_data[-int(test_size*len(full_data)):]"
   ]
  },
  {
   "cell_type": "code",
   "execution_count": 109,
   "metadata": {
    "collapsed": false
   },
   "outputs": [],
   "source": [
    "for i in train_data:\n",
    "    train_set[i[-1]].append(i[:-1])"
   ]
  },
  {
   "cell_type": "code",
   "execution_count": 110,
   "metadata": {
    "collapsed": true
   },
   "outputs": [],
   "source": [
    "for i in test_data:\n",
    "    test_set[i[-1]].append(i[:-1])"
   ]
  },
  {
   "cell_type": "code",
   "execution_count": 111,
   "metadata": {
    "collapsed": true
   },
   "outputs": [],
   "source": [
    "correct=0\n",
    "total=0"
   ]
  },
  {
   "cell_type": "code",
   "execution_count": 112,
   "metadata": {
    "collapsed": false
   },
   "outputs": [
    {
     "name": "stdout",
     "output_type": "stream",
     "text": [
      "Accuracy: 0.6834532374100719\n"
     ]
    }
   ],
   "source": [
    "for group in test_set:\n",
    "    for data in test_set[group]:\n",
    "        vote=k_near_neigh(train_set,data,k=3)\n",
    "        if group == vote:\n",
    "            correct+=1\n",
    "        total+=1\n",
    "print('Accuracy:',correct/total)"
   ]
  },
  {
   "cell_type": "code",
   "execution_count": null,
   "metadata": {
    "collapsed": true
   },
   "outputs": [],
   "source": []
  }
 ],
 "metadata": {
  "kernelspec": {
   "display_name": "Python 3",
   "language": "python",
   "name": "python3"
  },
  "language_info": {
   "codemirror_mode": {
    "name": "ipython",
    "version": 3
   },
   "file_extension": ".py",
   "mimetype": "text/x-python",
   "name": "python",
   "nbconvert_exporter": "python",
   "pygments_lexer": "ipython3",
   "version": "3.6.0"
  }
 },
 "nbformat": 4,
 "nbformat_minor": 2
}
