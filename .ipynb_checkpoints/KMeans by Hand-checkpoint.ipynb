{
 "cells": [
  {
   "cell_type": "code",
   "execution_count": 1,
   "metadata": {},
   "outputs": [],
   "source": [
    "import numpy as np\n",
    "import matplotlib.pyplot as plt\n",
    "%matplotlib inline\n",
    "from matplotlib import style\n",
    "style.use('ggplot')"
   ]
  },
  {
   "cell_type": "code",
   "execution_count": 2,
   "metadata": {},
   "outputs": [],
   "source": [
    "X=np.array([[1,2],\n",
    "           [1.5,1.8],\n",
    "           [5,8],\n",
    "           [8,8],\n",
    "           [1,0.6],\n",
    "           [9,11]])"
   ]
  },
  {
   "cell_type": "code",
   "execution_count": 3,
   "metadata": {},
   "outputs": [
    {
     "data": {
      "text/plain": [
       "<matplotlib.collections.PathCollection at 0x2b61c36e320>"
      ]
     },
     "execution_count": 3,
     "metadata": {},
     "output_type": "execute_result"
    },
    {
     "data": {
      "image/png": "[encoded data removed]",
      "text/plain": [
       "<Figure size 432x288 with 1 Axes>"
      ]
     },
     "metadata": {},
     "output_type": "display_data"
    }
   ],
   "source": [
    "plt.scatter(X[:,0],X[:,1],s=100)"
   ]
  },
  {
   "cell_type": "code",
   "execution_count": 51,
   "metadata": {},
   "outputs": [],
   "source": [
    "colors=[\"g\",\"r\",\"c\",\"b\",\"k\",\"o\"]"
   ]
  },
  {
   "cell_type": "code",
   "execution_count": 42,
   "metadata": {},
   "outputs": [],
   "source": [
    "class K_Means:\n",
    "    def __init__(self,k=2,tol=0.001,max_iter=300):\n",
    "        self.k=k\n",
    "        self.tol=tol\n",
    "        self.max_iter=max_iter\n",
    "        \n",
    "    def fit(self,data):\n",
    "        self.centroids={}        \n",
    "        for i in range(self.k):\n",
    "            self.centroids[i]=data[i]\n",
    "            \n",
    "        for i in range(self.max_iter):\n",
    "            self.classifications={}\n",
    "            for i in range(self.k):\n",
    "                self.classifications[i]=[]\n",
    "            for featureset in data:\n",
    "                distances = [np.linalg.norm(featureset-self.centroids[centroid])\n",
    "                            for centroid in self.centroids]\n",
    "                classification=distances.index(min(distances))\n",
    "                self.classifications[classification].append(featureset)\n",
    "            prev_centroids=dict(self.centroids)\n",
    "            for classification in self.classifications:\n",
    "                self.centroids[classification] = np.average(self.classifications[classification],axis=0)\n",
    "            optimized=True\n",
    "            \n",
    "            for c in self.centroids:\n",
    "                original_centroid=prev_centroids[c]\n",
    "                current_centroid=self.centroids[c]\n",
    "                if np.sum((current_centroid-original_centroid)/original_centroid*100)>self.tol:\n",
    "                    optimized=False\n",
    "                    \n",
    "            if optimized:\n",
    "                break\n",
    "\n",
    "            \n",
    "    def predict(self,data):\n",
    "        distances = [np.linalg.norm(data-self.centroids[centroid])\n",
    "                     for centroid in self.centroids]\n",
    "        classification=distances.index(min(distances))\n",
    "        return classification\n"
   ]
  },
  {
   "cell_type": "code",
   "execution_count": 44,
   "metadata": {},
   "outputs": [],
   "source": [
    "clf=K_Means(k=2)"
   ]
  },
  {
   "cell_type": "code",
   "execution_count": 45,
   "metadata": {},
   "outputs": [],
   "source": [
    "clf.fit(X)"
   ]
  },
  {
   "cell_type": "code",
   "execution_count": 52,
   "metadata": {},
   "outputs": [
    {
     "data": {
      "image/png": "[encoded data removed]",
      "text/plain": [
       "<Figure size 432x288 with 1 Axes>"
      ]
     },
     "metadata": {},
     "output_type": "display_data"
    }
   ],
   "source": [
    "for centroid in clf.centroids:\n",
    "    plt.scatter(clf.centroids[centroid][0],clf.centroids[centroid][1],\n",
    "               marker=\"o\",color=\"k\",s=150,linewidths=5)\n",
    "for classification in clf.classifications:\n",
    "    color=colors[classification]\n",
    "    for featureset in clf.classifications[classification]:\n",
    "        plt.scatter(featureset[0],featureset[1],marker=\"x\",s=150,linewidths=5,color=color)\n",
    "        \n",
    "unknows=np.array([[1,3],\n",
    "                 [8,9],\n",
    "                 [0,3],\n",
    "                 [5,4],\n",
    "                 [6,4]])\n",
    "\n",
    "for unknown in unknows:\n",
    "    classification=clf.predict(unknown)\n",
    "    color=colors[classification]\n",
    "    plt.scatter(unknown[0],unknown[1],marker=\"*\",color=color,s=150,linewidths=5)"
   ]
  },
  {
   "cell_type": "code",
   "execution_count": null,
   "metadata": {},
   "outputs": [],
   "source": []
  }
 ],
 "metadata": {
  "kernelspec": {
   "display_name": "Python 3",
   "language": "python",
   "name": "python3"
  },
  "language_info": {
   "codemirror_mode": {
    "name": "ipython",
    "version": 3
   },
   "file_extension": ".py",
   "mimetype": "text/x-python",
   "name": "python",
   "nbconvert_exporter": "python",
   "pygments_lexer": "ipython3",
   "version": "3.6.5"
  }
 },
 "nbformat": 4,
 "nbformat_minor": 2
}
