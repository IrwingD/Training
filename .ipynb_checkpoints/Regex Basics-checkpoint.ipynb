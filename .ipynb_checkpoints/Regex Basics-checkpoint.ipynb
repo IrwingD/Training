{
 "cells": [
  {
   "cell_type": "code",
   "execution_count": 7,
   "metadata": {},
   "outputs": [
    {
     "name": "stdout",
     "output_type": "stream",
     "text": [
      "\n"
     ]
    }
   ],
   "source": [
    "'''\n",
    "Identifiers\n",
    "\n",
    "\\d any number\n",
    "\\D anything BUT a number\n",
    "\\s space\n",
    "\\S anything BUT a space\n",
    "\\w any char\n",
    "\\W anything BUT a char\n",
    ".  any char except for a newline\n",
    "\\b the whitespace around words\n",
    "\\. a period \n",
    "\n",
    "Modifiers\n",
    "\n",
    "{1,3} we're expecting 1 to 3 eg. \\d {1,3} we are expecting digits 1 to 3 in length\n",
    "+ Match 1 or more\n",
    "? Match 0 or 1\n",
    "* Match 0 or more\n",
    "$ Match end of a string\n",
    "^ Match the beginning of a string\n",
    "| either or  eg. d{1,3} | w{5,6}\n",
    "[] range or variance\n",
    "{5} expecting eaxctly 5\n",
    "\n",
    "White Space Chars\n",
    "\n",
    "\\n newline\n",
    "\\s space\n",
    "\\t tab\n",
    "\\e escape\n",
    "\\f form feed\n",
    "\\r carriage return\n",
    "\n",
    "DON'T FORGET!\n",
    "\n",
    ". + * ? [] $ ! () {} | \\\n",
    "need to be escaped if you want to use them\n",
    "'''\n",
    "print()"
   ]
  },
  {
   "cell_type": "code",
   "execution_count": 8,
   "metadata": {},
   "outputs": [],
   "source": [
    "import re"
   ]
  },
  {
   "cell_type": "code",
   "execution_count": 9,
   "metadata": {},
   "outputs": [],
   "source": [
    "exampleString='''\n",
    "Jessica is 15 years old, and Daniel is 27 years old.\n",
    "Edward is 97, and his grandfather , Oscar, is 102.\n",
    "'''"
   ]
  },
  {
   "cell_type": "code",
   "execution_count": 10,
   "metadata": {},
   "outputs": [
    {
     "data": {
      "text/plain": [
       "['15', '27', '97', '102']"
      ]
     },
     "execution_count": 10,
     "metadata": {},
     "output_type": "execute_result"
    }
   ],
   "source": [
    "ages=re.findall(r'\\d{1,3}',exampleString)\n",
    "ages"
   ]
  },
  {
   "cell_type": "code",
   "execution_count": 12,
   "metadata": {},
   "outputs": [
    {
     "data": {
      "text/plain": [
       "['Jessica', 'Daniel', 'Edward', 'Oscar']"
      ]
     },
     "execution_count": 12,
     "metadata": {},
     "output_type": "execute_result"
    }
   ],
   "source": [
    "names=re.findall(r'[A-Z][a-z]*',exampleString) #search for exactly one capital letter followed by zero or more small letters\n",
    "names"
   ]
  },
  {
   "cell_type": "code",
   "execution_count": 15,
   "metadata": {},
   "outputs": [
    {
     "data": {
      "text/plain": [
       "{'Jessica': '15', 'Daniel': '27', 'Edward': '97', 'Oscar': '102'}"
      ]
     },
     "execution_count": 15,
     "metadata": {},
     "output_type": "execute_result"
    }
   ],
   "source": [
    "ageDict={}\n",
    "for x in range (len(ages)):\n",
    "    ageDict[names[x]]=ages[x]\n",
    "ageDict"
   ]
  },
  {
   "cell_type": "code",
   "execution_count": null,
   "metadata": {},
   "outputs": [],
   "source": []
  }
 ],
 "metadata": {
  "kernelspec": {
   "display_name": "Python 3",
   "language": "python",
   "name": "python3"
  },
  "language_info": {
   "codemirror_mode": {
    "name": "ipython",
    "version": 3
   },
   "file_extension": ".py",
   "mimetype": "text/x-python",
   "name": "python",
   "nbconvert_exporter": "python",
   "pygments_lexer": "ipython3",
   "version": "3.6.5"
  }
 },
 "nbformat": 4,
 "nbformat_minor": 2
}
